{
  "cells": [
    {
      "cell_type": "markdown",
      "metadata": {
        "id": "r-TaEzbndhGN"
      },
      "source": [
        "[![Open In Colab](https://colab.research.google.com/assets/colab-badge.svg)](https://colab.research.google.com/github/PennNGG/Quantitative-Neuroscience/blob/master/Hypothesis%20Testing/Python/Simple%20Non%2dParametric%20Tests.ipynb)"
      ]
    },
    {
      "cell_type": "markdown",
      "metadata": {
        "id": "pKIiY6p3GRFq"
      },
      "source": [
        "# Definitions"
      ]
    },
    {
      "cell_type": "markdown",
      "metadata": {
        "id": "x7VmLUr5GTNw"
      },
      "source": [
        "When comparing the central tendencies (e.g., means) of two samples, if you know how the samples are distributed and/or *n* is large enough in each sample so that you can assume that their means are normally distributed via the Central Limit Theorem, then it is reasonable to use parametric hypothesis tests like a [*t*-test](https://colab.research.google.com/drive/1M7xjaMwJUEyULPHfXc3tWG6-WVjCl-uQ?usp=sharing). Otherwise, nonparametric tests should be used. \n",
        "\n",
        "There is an increasing understanding by neuroscientists and others that parametric tests, while they tend to be simple and convenient, often have assumptions that are not well justified and thus should be used only when appropriate. See, for example:\n",
        "\n",
        "[Running the Numbers](https://www.nature.com/articles/nn0205-123) from *Nature Neuroscience*, which discusses using nonparametric approaches when appropriate.\n",
        "\n",
        "[An evaluation of nonparametric approaches in clinical trials](https://bmcmedresmethodol.biomedcentral.com/articles/10.1186/1471-2288-5-35), which covers several of the tests described below.\n",
        "\n",
        "Here we will not dive deep into the math but instead will provide a more practical guide for when to use three common forms of nonparametric one- and two-sample tests."
      ]
    },
    {
      "cell_type": "markdown",
      "metadata": {
        "id": "5ULZKAuOBol4"
      },
      "source": [
        "\n",
        "# Getting started with code"
      ]
    },
    {
      "cell_type": "markdown",
      "metadata": {
        "id": "S57swuS-BwVO"
      },
      "source": [
        "Matlab code is found in the [NGG Statistics GitHub Repository](https://github.com/PennNGG/Statistics.git) under \"Hypothesis Testing/SimpleNonParametricTests.m\".\n",
        "\n",
        "Python code is included below. First run the code cell just below to make sure all of the required Python modules are loaded, then you can run the other cell(s)."
      ]
    },
    {
      "cell_type": "code",
      "execution_count": null,
      "metadata": {
        "id": "CjqTNogqBtUX"
      },
      "outputs": [],
      "source": [
        "import numpy as np\n",
        "import scipy.stats as st\n",
        "from statsmodels.stats.descriptivestats import sign_test"
      ]
    },
    {
      "cell_type": "markdown",
      "metadata": {
        "id": "nvmWeSSHSF95"
      },
      "source": [
        "# Sign test: one sample, skewed distribution"
      ]
    },
    {
      "cell_type": "markdown",
      "metadata": {
        "id": "bki88QRVSaj8"
      },
      "source": [
        "This test is applied to a single sample but is typically used for paired measurements to test the hypothesis that there is no systematic direction of a treatment effect (positive=the treatment resulted in a bigger value, negative=the treatment resulted in a smaller value), regardless of magnitude. The Null hypothesis is an equal probability of an effect either direction, so the data are treated as a [binomial distribution](https://colab.research.google.com/drive/1q1KaEjkAzUKRFSLPQ0SFdqU_byc70Oi2?usp=sharing) with *p*=0.5"
      ]
    },
    {
      "cell_type": "code",
      "execution_count": null,
      "metadata": {
        "id": "NDfcV21FJ7v0"
      },
      "outputs": [],
      "source": [
        "# Make some paired data\n",
        "a = [3,10,4,20,4,7,50,3,5,5,7]\n",
        "b = [5,9,10,15,6,5,43,6,2,1,0]\n",
        "diff = [bi-ai for ai, bi in zip(a,b)]\n",
        "_, p = sign_test(diff)\n",
        "print(f'p={p:.2f}')"
      ]
    },
    {
      "cell_type": "markdown",
      "metadata": {
        "id": "To3hA26GKjv0"
      },
      "source": [
        "# Wilcoxon signed-rank test: one sample or paired samples, symmetric distribution(s)"
      ]
    },
    {
      "cell_type": "markdown",
      "metadata": {
        "id": "QtK7ZyfjKojz"
      },
      "source": [
        "This test is typically used as a substitute for a [one-sample *t*-test](https://colab.research.google.com/drive/1M7xjaMwJUEyULPHfXc3tWG6-WVjCl-uQ?usp=sharing) and can be used to test the (null) hypothesis that a sample came from a population with a particular median value, or that the median values of two paired samples are equal to each other (i.e., the median of the difference distribution is zero)\n"
      ]
    },
    {
      "cell_type": "code",
      "execution_count": null,
      "metadata": {
        "colab": {
          "base_uri": "https://localhost:8080/"
        },
        "id": "yjGigVEMLWMP",
        "outputId": "1aef3c87-7610-4f79-abf8-c01145928cd8"
      },
      "outputs": [
        {
          "name": "stdout",
          "output_type": "stream",
          "text": [
            "p = 0.53\n"
          ]
        }
      ],
      "source": [
        "samples = np.random.randint(0, high=51, size=200)\n",
        "null_hypothesis_median = 24\n",
        "\n",
        "# Unlike in Matlab, the scipy implementation does not handle the case of comparing\n",
        "#  to a median other than zero, so we make this a (fake) paired two-sample test\n",
        "#  by subtracting the median from each value\n",
        "_, p = st.wilcoxon(samples-null_hypothesis_median)\n",
        "print(f'p = {p:.2f}')\n"
      ]
    },
    {
      "cell_type": "markdown",
      "metadata": {
        "id": "k_iBh6ZsLnX7"
      },
      "source": [
        "# Mann-Whitney: unpaired, two sample\n"
      ]
    },
    {
      "cell_type": "markdown",
      "metadata": {
        "id": "clnBO4FU28El"
      },
      "source": [
        "This is the test that is typically used as a substitute for a [two-sample *t*-test](https://colab.research.google.com/drive/1M7xjaMwJUEyULPHfXc3tWG6-WVjCl-uQ?usp=sharing) and can be used to test the hypothesis that the two unpaired samples come from distributions that differ by a particular median value.\n",
        "\n"
      ]
    },
    {
      "cell_type": "code",
      "execution_count": null,
      "metadata": {
        "colab": {
          "base_uri": "https://localhost:8080/"
        },
        "id": "vbhD1d9vOBCM",
        "outputId": "b29805f4-281f-4b5c-ce45-9dd09dab6c48"
      },
      "outputs": [
        {
          "name": "stdout",
          "output_type": "stream",
          "text": [
            "p = 0.23\n"
          ]
        }
      ],
      "source": [
        "X = np.random.randint(0, high=51, size=200)\n",
        "Y = 2 + np.random.randint(0, high=51, size=200)\n",
        "_, p = st.mannwhitneyu(X,Y)\n",
        "print(f'p = {p:.2f}')"
      ]
    },
    {
      "cell_type": "markdown",
      "metadata": {
        "id": "hy2ZhkLLdhGp"
      },
      "source": [
        "# Exercises"
      ]
    },
    {
      "cell_type": "markdown",
      "metadata": {
        "id": "nE2E2JohdhGp"
      },
      "source": [
        "### Scenario 1:\n",
        "\n",
        "**You are a behavioral geologist measuring the reaction time of rocks in response to a tone. Specifically, you want to compare the median reaction time of geodes, to that of limestone. You recruit 20 rocks per group, and run your reaction-time experiment. What test would you use to compare median reaction times between geodes and limestone, and why?**\n",
        "\n",
        "I would use a Wilcoxon test to test the null hypothesis that the medians of the two groups are equal."
      ]
    },
    {
      "cell_type": "markdown",
      "metadata": {
        "id": "uvRTHQQJdhGp"
      },
      "source": [
        "### Scenario 2:\n",
        "\n",
        "**You are a brilliant scientist working at a biotech firm developing a vaccine that reverses aging. Wow! To test the efficacy of the vaccine, you recruit 50 people, give them a course of your vaccine, and measure their age with a (very) special scale before and after treatment. You want to start by refuting the simple that that the participants' measured ages are not changed by the treatment. What test do you use and why?**\n",
        "\n",
        "I would use a sign-test to test the null hypothesis that the treatment doesn't increase or decrease participants measured ages."
      ]
    },
    {
      "cell_type": "markdown",
      "metadata": {
        "id": "Y7K5gGaidhGq"
      },
      "source": [
        "### Scenario 3\n",
        "\n",
        "**You are a neuroeconomist and believe you have developed a wearable device that can change consumer preferences about a given product. To test your device, you present product X to a group of 40 individuals, and ask them to fill out a survery assessing how much they like the product (larger score means they like it more). Then, you have the individuals wear the device, present product X, and assess how much they like of the product. You want to know if the device reliably increases, decreases, or does not affect their liking of product X. What test would you use and why? What result would indicate that their liking has increased? **\n",
        "\n",
        "I would use a sign-test to compare participant assessments before and after in order to assess the directionality of the assesments. A lower probability would indicate that a direction change (increase or decrease) is less lkely to be by chance. To assess the directionality, would need to also look at group means in conjunction with this.  "
      ]
    },
    {
      "cell_type": "markdown",
      "metadata": {
        "id": "UqoNXyuxP-go"
      },
      "source": [
        "# Additional Resources\n"
      ]
    },
    {
      "cell_type": "markdown",
      "metadata": {
        "id": "tteEm2Qlgbb3"
      },
      "source": [
        "# Credits\n",
        "\n",
        "Copyright 2021 by Joshua I. Gold, University of Pennsylvania"
      ]
    }
  ],
  "metadata": {
    "colab": {
      "collapsed_sections": [
        "pKIiY6p3GRFq",
        "5ULZKAuOBol4",
        "To3hA26GKjv0",
        "k_iBh6ZsLnX7"
      ],
      "name": "Simple Non-Parametric Tests",
      "provenance": [],
      "toc_visible": true
    },
    "kernelspec": {
      "display_name": "Python 3.9.6 64-bit",
      "language": "python",
      "name": "python3"
    },
    "language_info": {
      "name": "python",
      "version": "3.9.6"
    },
    "vscode": {
      "interpreter": {
        "hash": "aee8b7b246df8f9039afb4144a1f6fd8d2ca17a180786b69acc140d282b71a49"
      }
    }
  },
  "nbformat": 4,
  "nbformat_minor": 0
}